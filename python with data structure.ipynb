{
 "cells": [
  {
   "cell_type": "markdown",
   "id": "66f7721b-9cf9-492e-b9ad-8a02dc4d3a27",
   "metadata": {},
   "source": [
    "# Arrays"
   ]
  },
  {
   "cell_type": "code",
   "execution_count": 1,
   "id": "b94dc4d0-902e-41db-86bd-972536052fa9",
   "metadata": {},
   "outputs": [
    {
     "name": "stdout",
     "output_type": "stream",
     "text": [
      "array('i', [3, 5, 7, 2, 3])\n",
      "<class 'array.array'>\n"
     ]
    }
   ],
   "source": [
    "#Initialize\n",
    "from array import array\n",
    "arr = array('i',[3,5,7,2,3])\n",
    "print(arr)\n",
    "print(type(arr))"
   ]
  },
  {
   "cell_type": "code",
   "execution_count": 2,
   "id": "c1490ec1-74ff-4a1b-8741-600d0bdcabfc",
   "metadata": {},
   "outputs": [
    {
     "name": "stdout",
     "output_type": "stream",
     "text": [
      "array('i', [4, 6, 8, 1])\n",
      "<class 'array.array'>\n"
     ]
    }
   ],
   "source": [
    "from array import array\n",
    "arr2 = array('i',[4,6,8,1])\n",
    "print(arr2)\n",
    "print(type(arr2))"
   ]
  },
  {
   "cell_type": "code",
   "execution_count": 3,
   "id": "8840ffd8-c018-42f6-8a6d-be45f1988afc",
   "metadata": {},
   "outputs": [
    {
     "data": {
      "text/plain": [
       "7"
      ]
     },
     "execution_count": 3,
     "metadata": {},
     "output_type": "execute_result"
    }
   ],
   "source": [
    "arr[2] #access"
   ]
  },
  {
   "cell_type": "code",
   "execution_count": 4,
   "id": "378290e7-e46c-49ad-9f76-2789d1e5169b",
   "metadata": {},
   "outputs": [
    {
     "name": "stdout",
     "output_type": "stream",
     "text": [
      "array('i', [3, 5, 9, 2, 3])\n"
     ]
    }
   ],
   "source": [
    "arr[2]=9 #modify\n",
    "print(arr)"
   ]
  },
  {
   "cell_type": "code",
   "execution_count": 5,
   "id": "cac462ac-8aa1-4719-a0a8-97f02088321b",
   "metadata": {},
   "outputs": [],
   "source": [
    "arr.insert(3,77)"
   ]
  },
  {
   "cell_type": "code",
   "execution_count": 6,
   "id": "ff74682a-8130-48fb-8c66-ce32a1d6426c",
   "metadata": {},
   "outputs": [
    {
     "data": {
      "text/plain": [
       "array('i', [3, 5, 9, 77, 2, 3])"
      ]
     },
     "execution_count": 6,
     "metadata": {},
     "output_type": "execute_result"
    }
   ],
   "source": [
    "arr"
   ]
  },
  {
   "cell_type": "code",
   "execution_count": 7,
   "id": "843c923e-90d7-44f1-9556-214a8c8a0b58",
   "metadata": {},
   "outputs": [],
   "source": [
    "del(arr[3])"
   ]
  },
  {
   "cell_type": "code",
   "execution_count": 8,
   "id": "15edcdc8-5b54-469b-987a-00fd46d2ebb6",
   "metadata": {},
   "outputs": [
    {
     "data": {
      "text/plain": [
       "array('i', [3, 5, 9, 2, 3])"
      ]
     },
     "execution_count": 8,
     "metadata": {},
     "output_type": "execute_result"
    }
   ],
   "source": [
    "arr"
   ]
  },
  {
   "cell_type": "code",
   "execution_count": 9,
   "id": "4a4aa064-c39d-44ac-b834-e5ae7edf3789",
   "metadata": {},
   "outputs": [
    {
     "name": "stdout",
     "output_type": "stream",
     "text": [
      "3\n",
      "5\n",
      "9\n",
      "2\n",
      "3\n"
     ]
    }
   ],
   "source": [
    "#for i in array/list:\n",
    "for i in arr:\n",
    "    print (i)"
   ]
  },
  {
   "cell_type": "code",
   "execution_count": 10,
   "id": "799bc34b-58fc-447e-be23-b950db465dea",
   "metadata": {},
   "outputs": [
    {
     "name": "stdout",
     "output_type": "stream",
     "text": [
      "5\n",
      "9\n"
     ]
    }
   ],
   "source": [
    "for i in arr:\n",
    "    if i>3:\n",
    "        print(i)"
   ]
  },
  {
   "cell_type": "code",
   "execution_count": 11,
   "id": "6fb52668-fee3-489b-8a58-1c2d65c404dd",
   "metadata": {},
   "outputs": [
    {
     "data": {
      "text/plain": [
       "[2, 3, 3, 5, 9]"
      ]
     },
     "execution_count": 11,
     "metadata": {},
     "output_type": "execute_result"
    }
   ],
   "source": [
    "arr =sorted(arr)\n",
    "arr"
   ]
  },
  {
   "cell_type": "code",
   "execution_count": 12,
   "id": "56066991-dd42-4bd4-972a-ce6171000aff",
   "metadata": {},
   "outputs": [
    {
     "name": "stdout",
     "output_type": "stream",
     "text": [
      "true\n"
     ]
    }
   ],
   "source": [
    "for i in arr:\n",
    "    if i==5:\n",
    "        print(\"true\")\n",
    "        "
   ]
  },
  {
   "cell_type": "code",
   "execution_count": 13,
   "id": "4d56a2da-efab-4aad-bea7-5e4a1bcd9eba",
   "metadata": {},
   "outputs": [
    {
     "name": "stdout",
     "output_type": "stream",
     "text": [
      "false\n"
     ]
    }
   ],
   "source": [
    "i = 13\n",
    "if i in arr:\n",
    "    print(\"true\")\n",
    "else:\n",
    "    print(\"false\")"
   ]
  },
  {
   "cell_type": "code",
   "execution_count": 14,
   "id": "14dc756d-a149-412b-a566-36d9fb7933db",
   "metadata": {},
   "outputs": [],
   "source": [
    "def search(el,arr):\n",
    "    if el in arr:\n",
    "        return True\n",
    "    else:\n",
    "        return False\n",
    "    \n"
   ]
  },
  {
   "cell_type": "code",
   "execution_count": 15,
   "id": "4c16b923-e35e-4432-9d66-d410dd07e84c",
   "metadata": {},
   "outputs": [
    {
     "data": {
      "text/plain": [
       "False"
      ]
     },
     "execution_count": 15,
     "metadata": {},
     "output_type": "execute_result"
    }
   ],
   "source": [
    "ar = array('i',[7,13,12,90])\n",
    "search(45,ar)"
   ]
  },
  {
   "cell_type": "code",
   "execution_count": 16,
   "id": "8c3bb25d-bb52-4419-adab-9fc9964706ba",
   "metadata": {},
   "outputs": [],
   "source": [
    "def mult(fac,arr):\n",
    "    for i in arr:\n",
    "        print(i*fac)"
   ]
  },
  {
   "cell_type": "code",
   "execution_count": 17,
   "id": "293bae26-ec66-414b-a871-e3fe31af34d9",
   "metadata": {},
   "outputs": [
    {
     "name": "stdout",
     "output_type": "stream",
     "text": [
      "35\n",
      "65\n",
      "60\n",
      "450\n"
     ]
    }
   ],
   "source": [
    "mult(5,ar)"
   ]
  },
  {
   "cell_type": "code",
   "execution_count": 18,
   "id": "407bd3dd-0e94-4e7e-b2dd-650a12b84181",
   "metadata": {},
   "outputs": [],
   "source": [
    "def missing(n,arr):\n",
    "    act_sum=(n*(n+1))/2\n",
    "    print(\"Actual sum is\",act_sum)\n",
    "    gn_sum =sum(arr)\n",
    "    print(\"sum of the given array is:\",gn_sum)\n",
    "    return(act_sum - gn_sum)"
   ]
  },
  {
   "cell_type": "code",
   "execution_count": 19,
   "id": "f1fad80f-fc0a-44b2-a9ec-aa746d8e4aa7",
   "metadata": {},
   "outputs": [
    {
     "name": "stdout",
     "output_type": "stream",
     "text": [
      "Actual sum is 21.0\n",
      "sum of the given array is: 18\n"
     ]
    },
    {
     "data": {
      "text/plain": [
       "3.0"
      ]
     },
     "execution_count": 19,
     "metadata": {},
     "output_type": "execute_result"
    }
   ],
   "source": [
    "myarray = array('i',[1,2,4,5,6])\n",
    "missing(6,myarray)"
   ]
  },
  {
   "cell_type": "code",
   "execution_count": 20,
   "id": "9245953b-b9d4-4439-9c4b-980eaaf2c58c",
   "metadata": {},
   "outputs": [],
   "source": [
    "def missing(n,arr):\n",
    "    act_sum=(n*(n+1))/2\n",
    "    print(\"Actual sum is\",act_sum)\n",
    "    gn_sum =sum(arr)\n",
    "    print(\"sum of the given array is:\",gn_sum)\n",
    "    return(act_sum - gn_sum)"
   ]
  },
  {
   "cell_type": "code",
   "execution_count": 21,
   "id": "81c38d67-4a93-403a-8770-6c171fe23cc6",
   "metadata": {},
   "outputs": [
    {
     "name": "stdout",
     "output_type": "stream",
     "text": [
      "Actual sum is 21.0\n",
      "sum of the given array is: 17\n"
     ]
    },
    {
     "data": {
      "text/plain": [
       "4.0"
      ]
     },
     "execution_count": 21,
     "metadata": {},
     "output_type": "execute_result"
    }
   ],
   "source": [
    "myarray = array('i',[1,2,3,5,6])\n",
    "missing(6,myarray)"
   ]
  },
  {
   "cell_type": "code",
   "execution_count": 22,
   "id": "dc189d01-8148-42e7-9d9f-ec4c7c6f26d1",
   "metadata": {},
   "outputs": [],
   "source": [
    "def find(n,arr):\n",
    "    gn_sum =sum(arr)\n",
    "    return n - gn_sum"
   ]
  },
  {
   "cell_type": "code",
   "execution_count": 23,
   "id": "bdc008e7-ea96-4a6d-890b-2605f9ceccc2",
   "metadata": {},
   "outputs": [
    {
     "data": {
      "text/plain": [
       "10"
      ]
     },
     "execution_count": 23,
     "metadata": {},
     "output_type": "execute_result"
    }
   ],
   "source": [
    "a=array('i',[12,2,0])\n",
    "find(24,a)"
   ]
  },
  {
   "cell_type": "code",
   "execution_count": 24,
   "id": "c44ec36e-7d2c-4979-8647-c7ec7c3c780b",
   "metadata": {},
   "outputs": [],
   "source": [
    "myarr2= array('i',[12,3,5,2,1])\n",
    "myarr2 =sorted(myarr2)\n",
    " "
   ]
  },
  {
   "cell_type": "code",
   "execution_count": 25,
   "id": "21ac7003-7e38-42c8-8513-dcaef0ae0796",
   "metadata": {},
   "outputs": [
    {
     "data": {
      "text/plain": [
       "[1, 2, 3, 5, 12]"
      ]
     },
     "execution_count": 25,
     "metadata": {},
     "output_type": "execute_result"
    }
   ],
   "source": [
    "myarr2"
   ]
  },
  {
   "cell_type": "code",
   "execution_count": 26,
   "id": "32722f6b-8266-4e51-972f-0c69978c04d1",
   "metadata": {},
   "outputs": [],
   "source": [
    "myarray=array('i',[1,3,2,3,2,1])\n",
    "myarray =sorted(myarray)"
   ]
  },
  {
   "cell_type": "code",
   "execution_count": 27,
   "id": "a2b53144-22cf-4fb0-a91f-28f8f1337be6",
   "metadata": {},
   "outputs": [
    {
     "data": {
      "text/plain": [
       "[1, 1, 2, 2, 3, 3]"
      ]
     },
     "execution_count": 27,
     "metadata": {},
     "output_type": "execute_result"
    }
   ],
   "source": [
    "myarray"
   ]
  },
  {
   "cell_type": "code",
   "execution_count": 3,
   "id": "b4866481-6eac-49f0-80bc-07887682ccc3",
   "metadata": {},
   "outputs": [],
   "source": [
    "n=134"
   ]
  },
  {
   "cell_type": "code",
   "execution_count": 4,
   "id": "cc64b998-62ab-4a27-8529-c5181a402937",
   "metadata": {},
   "outputs": [
    {
     "name": "stdout",
     "output_type": "stream",
     "text": [
      "431\n"
     ]
    }
   ],
   "source": [
    "rev =0\n",
    "while n!=0:\n",
    "    rem = n%10\n",
    "    rev = rev*10 + rem\n",
    "    n = n//10\n",
    "print(rev)"
   ]
  },
  {
   "cell_type": "code",
   "execution_count": null,
   "id": "cd640d37-0bd9-444f-9069-433e7cefc737",
   "metadata": {},
   "outputs": [],
   "source": []
  }
 ],
 "metadata": {
  "kernelspec": {
   "display_name": "Python 3 (ipykernel)",
   "language": "python",
   "name": "python3"
  },
  "language_info": {
   "codemirror_mode": {
    "name": "ipython",
    "version": 3
   },
   "file_extension": ".py",
   "mimetype": "text/x-python",
   "name": "python",
   "nbconvert_exporter": "python",
   "pygments_lexer": "ipython3",
   "version": "3.11.7"
  }
 },
 "nbformat": 4,
 "nbformat_minor": 5
}
