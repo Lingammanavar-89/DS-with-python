{
 "cells": [
  {
   "cell_type": "code",
   "execution_count": 1,
   "id": "3f4ad93f-cf72-44f9-8323-1034eec89838",
   "metadata": {},
   "outputs": [],
   "source": [
    "class node:\n",
    "    def __init__ (self,data):\n",
    "        self.data = data\n",
    "        self.head = None"
   ]
  },
  {
   "cell_type": "code",
   "execution_count": 2,
   "id": "c22ae578-aa85-4f6c-8fc4-e76f3849bab4",
   "metadata": {},
   "outputs": [],
   "source": [
    "class linkedlist:\n",
    "    def __init__ (self):\n",
    "        self.head = None\n",
    "        "
   ]
  },
  {
   "cell_type": "code",
   "execution_count": 3,
   "id": "712ef243-decd-43dc-8684-31721e105614",
   "metadata": {},
   "outputs": [],
   "source": [
    "def insert_beg(self,data):\n",
    "    new_node =node(data)\n",
    "    new_node.next = self.head\n",
    "    self.head = new_node\n",
    "    "
   ]
  },
  {
   "cell_type": "code",
   "execution_count": 4,
   "id": "3a1b9fd9-b7c0-4f37-a23d-f822d86a2476",
   "metadata": {},
   "outputs": [],
   "source": [
    "def insertend(self,data):\n",
    "    nd1 = node (data)\n",
    "    if self.head == None:\n",
    "        self.head =nd1\n",
    "    return\n",
    "    current = self.hesd \n",
    "    while current.next:\n",
    "        current = current.next\n",
    "    current.next = nd1\n",
    "    "
   ]
  },
  {
   "cell_type": "markdown",
   "id": "8bcc1658-f78e-4452-a60c-e7061833c98d",
   "metadata": {},
   "source": [
    "creat a class names'mylinkedlist'which can inialize and insert nodes at the begining"
   ]
  },
  {
   "cell_type": "code",
   "execution_count": 8,
   "id": "09c81327-d98e-4375-bf76-1f426d43168f",
   "metadata": {},
   "outputs": [],
   "source": [
    "class mylinkedlist:\n",
    "    def __init__(self):\n",
    "        self.head = None\n",
    "    def insert_beg(self, data):\n",
    "        new_node =node(data)\n",
    "        new_node.next = self.head\n",
    "        self.head = new_node\n",
    "    def insertend(self,data):\n",
    "        nd1 = node (data)\n",
    "        if self.head == None:\n",
    "            self.head =nd1\n",
    "        return\n",
    "        current = self.hesd \n",
    "        while current.next:\n",
    "            current = current.next\n",
    "        current.next = nd1\n",
    "    def insert(self,data,prev_node):\n",
    "        new_node = MyLL.mynodes(data)\n",
    "        new_node.next = prev_node.next\n",
    "        prev_node.next = new_node\n",
    "    def print_LL(self):\n",
    "        current = self.head\n",
    "        while current.next:\n",
    "            print(current.data,end = '_ _>')\n",
    "            current = current.next\n",
    "    def search(self,val):\n",
    "        current = self.head\n",
    "        while current:\n",
    "            if current.data == val:\n",
    "               return true\n",
    "            current = current.next\n",
    "        return False \n",
    "    def deletefirst(self):\n",
    "        self.head = self.head.next\n",
    "    def deleteend(self):\n",
    "        if self.head==0:\n",
    "            return\n",
    "            current = self.head\n",
    "            while current.next.next:\n",
    "                current = current.next\n",
    "            current.next=None \n",
    "            return current\n",
    "            \n",
    "    def del_by_val(self,x):\n",
    "        if self.head.data == x:\n",
    "            self.head = self.head.next\n",
    "        current=self.head\n",
    "        while current.next:\n",
    "            if current.next.data != x:\n",
    "                current = current.next\n",
    "            else:\n",
    "                break\n",
    "            if current.next:\n",
    "                current.next = current.next.next\n",
    "            else:\n",
    "                return 'not found'        \n",
    "        \n",
    "    \n",
    "\n",
    "\n"
   ]
  },
  {
   "cell_type": "code",
   "execution_count": 10,
   "id": "df1ffd3f-c5a5-499a-908f-1a1a22e5904f",
   "metadata": {},
   "outputs": [],
   "source": [
    "ll = mylinkedlist()\n",
    "ll.insert_beg(40)\n",
    "ll.insert_beg(50)\n",
    "ll.insert_beg(60)\n",
    "ll.deletefirst()\n",
    "ll.deleteend()\n",
    "ll.del_by_val(50)\n",
    "ll.print_LL()"
   ]
  },
  {
   "cell_type": "code",
   "execution_count": null,
   "id": "291cfb5c-c5fd-405c-895a-4afd9d29ef80",
   "metadata": {},
   "outputs": [],
   "source": []
  }
 ],
 "metadata": {
  "kernelspec": {
   "display_name": "Python 3 (ipykernel)",
   "language": "python",
   "name": "python3"
  },
  "language_info": {
   "codemirror_mode": {
    "name": "ipython",
    "version": 3
   },
   "file_extension": ".py",
   "mimetype": "text/x-python",
   "name": "python",
   "nbconvert_exporter": "python",
   "pygments_lexer": "ipython3",
   "version": "3.11.7"
  }
 },
 "nbformat": 4,
 "nbformat_minor": 5
}
