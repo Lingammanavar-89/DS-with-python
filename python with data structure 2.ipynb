{
 "cells": [
  {
   "cell_type": "code",
   "execution_count": 1,
   "id": "e8d9fb8c-e094-44ba-b36b-3b23101a14b1",
   "metadata": {},
   "outputs": [],
   "source": [
    "a=[2,3,4,6,7]"
   ]
  },
  {
   "cell_type": "code",
   "execution_count": 3,
   "id": "439435f9-355f-46dc-9ed7-48b50a18318f",
   "metadata": {},
   "outputs": [
    {
     "data": {
      "text/plain": [
       "7"
      ]
     },
     "execution_count": 3,
     "metadata": {},
     "output_type": "execute_result"
    }
   ],
   "source": [
    "a.pop()"
   ]
  },
  {
   "cell_type": "markdown",
   "id": "19268467-81c1-4166-b303-c405f5e27fa9",
   "metadata": {},
   "source": [
    "Stack implementation using list"
   ]
  },
  {
   "cell_type": "code",
   "execution_count": 37,
   "id": "59733214-0247-4533-9ca4-b98b10966600",
   "metadata": {},
   "outputs": [
    {
     "data": {
      "text/plain": [
       "2"
      ]
     },
     "execution_count": 37,
     "metadata": {},
     "output_type": "execute_result"
    }
   ],
   "source": [
    "class Stack:\n",
    "    def __init__(self):\n",
    "        self.stack=[]\n",
    "    def push(self,item):\n",
    "        self.stack.append(item)\n",
    "    def pop(self):\n",
    "        return self.stack.pop()    \n",
    "    def peek(self):\n",
    "        if self.stack:\n",
    "            return self.stack[-1]\n",
    "        else:\n",
    "            'stack is empty'\n",
    "    def empty(self):\n",
    "        if self.stack:\n",
    "            return self.stack[-1]\n",
    "        else:\n",
    "            'stack is empty'\n",
    "    def is_empty(self):\n",
    "        return len(self.stack)==0\n",
    "    def size(self):\n",
    "        return len(self.stack)    \n",
    "d=Stack()\n",
    "d.push(46)\n",
    "d.push(43)\n",
    "d.push(45)\n",
    "d.pop()\n",
    "d.peek()\n",
    "d.is_empty()\n",
    "d.size()\n"
   ]
  },
  {
   "cell_type": "code",
   "execution_count": 3,
   "id": "01871924-9b71-46b2-8d7a-668b9ff55719",
   "metadata": {},
   "outputs": [],
   "source": [
    "a='happy'"
   ]
  },
  {
   "cell_type": "code",
   "execution_count": 4,
   "id": "048eac9f-5ecf-407e-81c0-2b3dc1a85834",
   "metadata": {},
   "outputs": [
    {
     "data": {
      "text/plain": [
       "'h'"
      ]
     },
     "execution_count": 4,
     "metadata": {},
     "output_type": "execute_result"
    }
   ],
   "source": [
    "a[0]"
   ]
  },
  {
   "cell_type": "code",
   "execution_count": 5,
   "id": "d84b8cf9-d66f-48f0-81b5-4bc7c2136d42",
   "metadata": {},
   "outputs": [
    {
     "data": {
      "text/plain": [
       "'a'"
      ]
     },
     "execution_count": 5,
     "metadata": {},
     "output_type": "execute_result"
    }
   ],
   "source": [
    "a[1]"
   ]
  },
  {
   "cell_type": "code",
   "execution_count": 6,
   "id": "22603c8f-1e68-453c-bab3-d53e695ab9b1",
   "metadata": {},
   "outputs": [],
   "source": [
    "a='happy'\n",
    "b='me'\n",
    "c=a+b"
   ]
  },
  {
   "cell_type": "code",
   "execution_count": 7,
   "id": "c5edb152-6e5a-4b49-95fb-b4a4eddb49c6",
   "metadata": {},
   "outputs": [
    {
     "data": {
      "text/plain": [
       "'happyme'"
      ]
     },
     "execution_count": 7,
     "metadata": {},
     "output_type": "execute_result"
    }
   ],
   "source": [
    "c"
   ]
  },
  {
   "cell_type": "code",
   "execution_count": null,
   "id": "ce3162f7-60ce-4afb-b983-df53a82d0de8",
   "metadata": {},
   "outputs": [],
   "source": [
    "def happy=(str)"
   ]
  }
 ],
 "metadata": {
  "kernelspec": {
   "display_name": "Python 3 (ipykernel)",
   "language": "python",
   "name": "python3"
  },
  "language_info": {
   "codemirror_mode": {
    "name": "ipython",
    "version": 3
   },
   "file_extension": ".py",
   "mimetype": "text/x-python",
   "name": "python",
   "nbconvert_exporter": "python",
   "pygments_lexer": "ipython3",
   "version": "3.11.7"
  }
 },
 "nbformat": 4,
 "nbformat_minor": 5
}
