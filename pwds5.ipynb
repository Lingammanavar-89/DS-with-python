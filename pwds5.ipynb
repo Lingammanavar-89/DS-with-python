{
 "cells": [
  {
   "cell_type": "markdown",
   "id": "3ed894da-708d-48e8-a056-19ad7c493cf1",
   "metadata": {},
   "source": [
    "#### Create a class called \"Myqueue\" which can handle 1.Enqueue  2.Dequeue  3.Is empty 4.Display"
   ]
  },
  {
   "cell_type": "code",
   "execution_count": 1,
   "id": "485b0f47-fb18-485e-b203-8777cdc24278",
   "metadata": {},
   "outputs": [],
   "source": [
    "class Myqueue:\n",
    "    def __init__(self):\n",
    "        self.queue = []\n",
    "    def enqueue(self,item):\n",
    "        self.queue.append(item)\n",
    "    def dequeue(self):\n",
    "        if self.queue:\n",
    "            self.queue.pop()\n",
    "        else:\n",
    "            print('Queue is empty')\n",
    "    def is_empty(self):\n",
    "        return len(self.queue)==0\n",
    "    def display(self):\n",
    "        if self.queue:\n",
    "            return self.queue\n",
    "        else:\n",
    "            print('no queue to display')\n",
    "    def size(self):\n",
    "        return len(self.queue)"
   ]
  },
  {
   "cell_type": "code",
   "execution_count": 2,
   "id": "58cdab50-2198-4c5b-b625-b56c2e55c6f9",
   "metadata": {},
   "outputs": [],
   "source": [
    "q=Myqueue()\n",
    "q.enqueue(20)\n",
    "q.enqueue(30)\n",
    "q.enqueue(40)"
   ]
  },
  {
   "cell_type": "code",
   "execution_count": 3,
   "id": "6977ba00-d99e-4cd8-813f-82642dc71cb5",
   "metadata": {},
   "outputs": [],
   "source": [
    "q.dequeue()"
   ]
  },
  {
   "cell_type": "code",
   "execution_count": 4,
   "id": "3efe092c-c6a5-414e-b07b-f013d50a1bfb",
   "metadata": {},
   "outputs": [
    {
     "data": {
      "text/plain": [
       "[20, 30]"
      ]
     },
     "execution_count": 4,
     "metadata": {},
     "output_type": "execute_result"
    }
   ],
   "source": [
    "q.display()"
   ]
  },
  {
   "cell_type": "code",
   "execution_count": 5,
   "id": "2637c2af-d44b-4fcb-9e31-8293bd0c848d",
   "metadata": {},
   "outputs": [
    {
     "data": {
      "text/plain": [
       "2"
      ]
     },
     "execution_count": 5,
     "metadata": {},
     "output_type": "execute_result"
    }
   ],
   "source": [
    "q.size()"
   ]
  },
  {
   "cell_type": "code",
   "execution_count": 6,
   "id": "61f3a45c-6f4d-4d8d-a14a-42515dc3ad72",
   "metadata": {},
   "outputs": [],
   "source": [
    "q.dequeue()\n",
    "q.dequeue()"
   ]
  },
  {
   "cell_type": "code",
   "execution_count": 7,
   "id": "b0951e3e-c76d-4ca4-bbc9-d0f8365a58fb",
   "metadata": {},
   "outputs": [
    {
     "data": {
      "text/plain": [
       "True"
      ]
     },
     "execution_count": 7,
     "metadata": {},
     "output_type": "execute_result"
    }
   ],
   "source": [
    "q.is_empty()"
   ]
  },
  {
   "cell_type": "code",
   "execution_count": 8,
   "id": "6d44b07d-2d54-4a35-a169-d038da2d1b7c",
   "metadata": {},
   "outputs": [],
   "source": [
    "def funct(arr):\n",
    "    n=len(arr)\n",
    "    if n<=3:\n",
    "        return 0\n",
    "    even=[]\n",
    "    odd=[]\n",
    "    for i in range(n):\n",
    "        if i%2==0:\n",
    "            even.append(arr[i])\n",
    "        else:\n",
    "            odd.append(arr[i])\n",
    "    even.sort()\n",
    "    odd.sort()\n",
    "    suml= even[-2]\n",
    "    sums=odd[1]\n",
    "    sum=suml+sums\n",
    "    return sum\n",
    "        \n"
   ]
  },
  {
   "cell_type": "code",
   "execution_count": 9,
   "id": "a1538fed-e182-4cea-87f6-840d383f12da",
   "metadata": {},
   "outputs": [
    {
     "name": "stdout",
     "output_type": "stream",
     "text": [
      "13\n"
     ]
    }
   ],
   "source": [
    "arr=[2,9,8,1,7,6]\n",
    "print(funct(arr))"
   ]
  },
  {
   "cell_type": "markdown",
   "id": "a5d706e5-9ca4-4db2-b36d-5ea3cc294a37",
   "metadata": {},
   "source": [
    "Circular queue implementation with fixed size"
   ]
  },
  {
   "cell_type": "raw",
   "id": "63ca96ee-52d7-423a-8332-dbd6109247cd",
   "metadata": {},
   "source": [
    "1. Initialize\n",
    " -Size\n",
    " -Front pointer (exit)\n",
    " -Rear pointer (entry)\n",
    " -Queue\n",
    "\n",
    "2.Enqueue\n",
    " -Queue is full(rear+1 == front)\n",
    " -First element (rear=front=0), then append\n",
    " -Entering anywhere except at the begining (rear = rear+1%size),then append\n",
    "\n",
    "3.Denqueue\n",
    " -Rear=front= -1(Queue empty)\n",
    " -Rear=front(only one element remains) (pop it by moving the front & rear to -1\n",
    " -Dequeue the element pointed by front pointer(front means first element)&increment from pointer \n",
    "Dequeue = Moving the front pointer to next value"
   ]
  },
  {
   "cell_type": "code",
   "execution_count": 12,
   "id": "d1a21872-026e-44d7-a98f-6d18c6b5065f",
   "metadata": {},
   "outputs": [],
   "source": [
    "class circularQ:\n",
    "    def __init__(self,size):\n",
    "        self.size = size\n",
    "        self.front = self.rear = -1\n",
    "        self.queue = [None]*size\n",
    "    def enqueue(self,data):\n",
    "        if (self.rear+1)%self.size == self.front:\n",
    "            print(\"Queue is full\")\n",
    "        elif self.front == -1:\n",
    "            self.front = self.rear = 0\n",
    "            self.queue[self.rear] = data\n",
    "        else:\n",
    "            self.rear = (self.rear + 1)%self.size\n",
    "            self.queue[self.rear] = data\n",
    "    def dequeue(self):\n",
    "        if self.front==-1:\n",
    "            print(\"Queue is empty\")\n",
    "            return\n",
    "        popped = self.queue[self.front]\n",
    "        if (self.front == self.rear):\n",
    "            self.front = self.rear = -1\n",
    "            return popped\n",
    "        else:\n",
    "            self.front = (self.front+1)%self.size\n",
    "            return popped\n",
    "    def display(self):\n",
    "        if self.front == -1:\n",
    "            print(\"Queue is empty\")\n",
    "            return\n",
    "        i = self.front\n",
    "        while True:\n",
    "            print(self.queue[i])\n",
    "            if i == self.rear:\n",
    "                break\n",
    "            i = (i+1)%self.size\n",
    "    "
   ]
  },
  {
   "cell_type": "code",
   "execution_count": 13,
   "id": "480cf573-3ac2-4ce8-ad16-b18f4ab144c3",
   "metadata": {},
   "outputs": [
    {
     "name": "stdout",
     "output_type": "stream",
     "text": [
      "Queue is full\n"
     ]
    }
   ],
   "source": [
    "q=circularQ(3)\n",
    "q.enqueue(40)\n",
    "q.enqueue(50)\n",
    "q.enqueue(80)\n",
    "q.enqueue(90)\n"
   ]
  },
  {
   "cell_type": "code",
   "execution_count": 14,
   "id": "76ed2046-1d5c-4346-9750-aacdd5640cbd",
   "metadata": {},
   "outputs": [
    {
     "name": "stdout",
     "output_type": "stream",
     "text": [
      "Queue is empty\n"
     ]
    }
   ],
   "source": [
    "q.dequeue()\n",
    "q.dequeue()\n",
    "q.dequeue()\n",
    "q.dequeue()"
   ]
  },
  {
   "cell_type": "code",
   "execution_count": 16,
   "id": "695f3e45-c8ec-47c9-88ff-283661044968",
   "metadata": {},
   "outputs": [
    {
     "name": "stdout",
     "output_type": "stream",
     "text": [
      "70\n",
      "80\n",
      "90\n"
     ]
    }
   ],
   "source": [
    "q=circularQ(3)\n",
    "q.enqueue(70)\n",
    "q.enqueue(80)\n",
    "q.enqueue(90)\n",
    "q.display()\n",
    "1"
   ]
  },
  {
   "cell_type": "code",
   "execution_count": 20,
   "id": "cb080739-9671-458b-b8f9-3cfa1bc2b03c",
   "metadata": {},
   "outputs": [],
   "source": [
    "def dif(n,m):\n",
    "    divi = 0\n",
    "    ndivi = 0\n",
    "    for i in range(1,m+1):\n",
    "        if i%4 == 0:\n",
    "            divi = divi+i\n",
    "        else:\n",
    "            ndivi= ndivi+i\n",
    "    if ndivi > divi:\n",
    "        print(ndivi - divi)\n",
    "    else:\n",
    "        print(divi - ndivi)"
   ]
  },
  {
   "cell_type": "code",
   "execution_count": 22,
   "id": "6f503075-b0a9-4300-a671-6d23fece695b",
   "metadata": {},
   "outputs": [
    {
     "name": "stdout",
     "output_type": "stream",
     "text": [
      "6\n"
     ]
    }
   ],
   "source": [
    "dif(2,3)"
   ]
  },
  {
   "cell_type": "code",
   "execution_count": 1,
   "id": "0b02d13d-0ce9-46b8-b427-5b5de135f4a5",
   "metadata": {},
   "outputs": [],
   "source": [
    "def check_password(s, n):\n",
    "    if n < 4:\n",
    "        return 0\n",
    "    \n",
    "    has_digit = False\n",
    "    has_upper = False\n",
    "    has_invalid_char = False\n",
    "    \n",
    "    for char in s:\n",
    "        if char.isdigit():\n",
    "            has_digit = True\n",
    "        elif char.isupper():\n",
    "            has_upper = True\n",
    "        elif char == ' ' or char == '/':\n",
    "            has_invalid_char = True\n",
    "    \n",
    "    if has_digit and has_upper and not has_invalid_char:\n",
    "        return 1\n",
    "    else:\n",
    "        return 0"
   ]
  },
  {
   "cell_type": "code",
   "execution_count": 2,
   "id": "6a0934b7-8edb-4600-9824-60ce2b913c37",
   "metadata": {},
   "outputs": [
    {
     "name": "stdout",
     "output_type": "stream",
     "text": [
      "1\n",
      "0\n",
      "0\n"
     ]
    }
   ],
   "source": [
    "print(check_password(\"Password1\", len(\"Password1\")))\n",
    "print(check_password(\"pass1\", len(\"pass1\")))\n",
    "print(check_password(\"Pass1/word\", len(\"Pass1/word\")))"
   ]
  },
  {
   "cell_type": "code",
   "execution_count": null,
   "id": "aa05e297-7387-4a38-9336-9b87ff5dc6d6",
   "metadata": {},
   "outputs": [],
   "source": []
  }
 ],
 "metadata": {
  "kernelspec": {
   "display_name": "Python 3 (ipykernel)",
   "language": "python",
   "name": "python3"
  },
  "language_info": {
   "codemirror_mode": {
    "name": "ipython",
    "version": 3
   },
   "file_extension": ".py",
   "mimetype": "text/x-python",
   "name": "python",
   "nbconvert_exporter": "python",
   "pygments_lexer": "ipython3",
   "version": "3.11.7"
  }
 },
 "nbformat": 4,
 "nbformat_minor": 5
}
