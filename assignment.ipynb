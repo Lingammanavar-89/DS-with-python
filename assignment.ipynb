{
 "cells": [
  {
   "cell_type": "markdown",
   "id": "57ed7b4d-063f-41a4-aef2-842567310df5",
   "metadata": {},
   "source": [
    "1 Password Check"
   ]
  },
  {
   "cell_type": "code",
   "execution_count": 1,
   "id": "38a3ea3a-b69e-4bcf-a74a-7ca7d8e836d2",
   "metadata": {},
   "outputs": [],
   "source": [
    "def check_password(s, n):\n",
    "    if n < 4:\n",
    "        return 0\n",
    "    \n",
    "    has_digit = False\n",
    "    has_upper = False\n",
    "    has_invalid_char = False\n",
    "    \n",
    "    for char in s:\n",
    "        if char.isdigit():\n",
    "            has_digit = True\n",
    "        elif char.isupper():\n",
    "            has_upper = True\n",
    "        elif char == ' ' or char == '/':\n",
    "            has_invalid_char = True\n",
    "    \n",
    "    if has_digit and has_upper and not has_invalid_char:\n",
    "        return 1\n",
    "    else:\n",
    "        return 0"
   ]
  },
  {
   "cell_type": "code",
   "execution_count": 2,
   "id": "1df79d1f-7c53-4b72-bc77-4da73c14fa99",
   "metadata": {},
   "outputs": [
    {
     "name": "stdout",
     "output_type": "stream",
     "text": [
      "1\n",
      "0\n",
      "0\n"
     ]
    }
   ],
   "source": [
    "print(check_password(\"Password1\", len(\"Password1\")))\n",
    "print(check_password(\"pass1\", len(\"pass1\")))\n",
    "print(check_password(\"Pass1/word\", len(\"Pass1/word\")))"
   ]
  },
  {
   "cell_type": "markdown",
   "id": "78b8c562-f69c-4fd0-a3fe-67a719e805d4",
   "metadata": {},
   "source": [
    "2 Queue Implementation"
   ]
  },
  {
   "cell_type": "code",
   "execution_count": 3,
   "id": "4fffad7c-2eec-473d-aaa4-b939247c6d5c",
   "metadata": {},
   "outputs": [],
   "source": [
    "class Node:\n",
    "    def __init__(self, data):\n",
    "        self.data = data\n",
    "        self.next = None\n"
   ]
  },
  {
   "cell_type": "code",
   "execution_count": 4,
   "id": "c56c7940-928c-4f8b-ac1b-ef997d10b63e",
   "metadata": {},
   "outputs": [],
   "source": [
    "class Queue:\n",
    "    def __init__(self):\n",
    "        self.front = None\n",
    "        self.rear = None\n",
    "    def enqueue(self, data):\n",
    "        new_node = Node(data)\n",
    "        if self.rear is None:\n",
    "            self.front = self.rear = new_node\n",
    "        else:\n",
    "            self.rear.next = new_node\n",
    "            self.rear = new_node\n",
    "    def dequeue(self):\n",
    "        if self.front is None:\n",
    "            raise IndexError(\"Dequeue from an empty queue\")\n",
    "        data = self.front.data\n",
    "        self.front = self.front.next\n",
    "        if self.front is None:\n",
    "            self.rear = None\n",
    "        return data\n",
    "    def is_empty(self):\n",
    "        return self.front is None"
   ]
  },
  {
   "cell_type": "code",
   "execution_count": 5,
   "id": "f3f90887-2e5f-4fd8-845d-63f3a13d8df4",
   "metadata": {},
   "outputs": [
    {
     "data": {
      "text/plain": [
       "2"
      ]
     },
     "execution_count": 5,
     "metadata": {},
     "output_type": "execute_result"
    }
   ],
   "source": [
    "q = Queue()\n",
    "q.enqueue(1)\n",
    "q.enqueue(2)\n",
    "q.enqueue(3)\n",
    "q.dequeue()\n",
    "q.dequeue()"
   ]
  },
  {
   "cell_type": "code",
   "execution_count": 11,
   "id": "dc7447bb-74ef-460e-92e6-83b6d476a7b9",
   "metadata": {},
   "outputs": [
    {
     "data": {
      "text/plain": [
       "False"
      ]
     },
     "execution_count": 11,
     "metadata": {},
     "output_type": "execute_result"
    }
   ],
   "source": [
    "q.is_empty()"
   ]
  },
  {
   "cell_type": "markdown",
   "id": "e3b247ab-e910-4743-ae41-8e6c79bc4551",
   "metadata": {},
   "source": [
    "3 Reverse a queue"
   ]
  },
  {
   "cell_type": "code",
   "execution_count": 13,
   "id": "66cca075-3a47-4150-9018-5ef0adf2ae4d",
   "metadata": {},
   "outputs": [],
   "source": [
    "class Node:\n",
    "    def __init__(self, data):\n",
    "        self.data = data\n",
    "        self.next = None\n",
    "class Queue:\n",
    "    def __init__(self):\n",
    "        self.front = None\n",
    "        self.rear = None\n",
    "    def enqueue(self, data):\n",
    "        new_node = Node(data)\n",
    "        if self.rear is None:\n",
    "            self.front = self.rear = new_node\n",
    "        else:\n",
    "            self.rear.next = new_node\n",
    "            self.rear = new_node\n",
    "    def dequeue(self):\n",
    "        if self.front is None:\n",
    "            raise IndexError(\"Dequeue from an empty queue\")\n",
    "        data = self.front.data\n",
    "        self.front = self.front.next\n",
    "        if self.front is None:\n",
    "            self.rear = None\n",
    "        return data\n",
    "    def is_empty(self):\n",
    "        return self.front is None\n",
    "    def peek(self):\n",
    "        if self.front is None:\n",
    "            raise IndexError(\"Peek from an empty queue\")\n",
    "        return self.front.data\n",
    "    def __str__(self):\n",
    "        values = []\n",
    "        current = self.front\n",
    "        while current:\n",
    "            values.append(current.data)\n",
    "            current = current.next\n",
    "        return \" -> \".join(map(str, values))\n",
    "class Stack:\n",
    "    def __init__(self):\n",
    "        self.stack = []\n",
    "    def push(self, data):\n",
    "        self.stack.append(data)\n",
    "    def pop(self):\n",
    "        if not self.stack:\n",
    "            raise IndexError(\"Pop from an empty stack\")\n",
    "            return self.stack.pop()\n",
    "    def is_empty(self):\n",
    "        return len(self.stack) == 0\n",
    "    def reverse_queue(queue):\n",
    "        stack = Stack()\n",
    "        while not queue.is_empty():\n",
    "            stack.push(queue.dequeue())\n",
    "        while not stack.is_empty():\n",
    "            queue.enqueue(stack.pop())"
   ]
  },
  {
   "cell_type": "code",
   "execution_count": 16,
   "id": "b4caf9db-5ee8-4ba9-aa2d-d71a7c6dfe4d",
   "metadata": {},
   "outputs": [],
   "source": [
    "queue = Queue()\n",
    "queue.enqueue(1)\n",
    "queue.enqueue(2)\n",
    "queue.enqueue(3)\n",
    "queue.enqueue(4)"
   ]
  },
  {
   "cell_type": "code",
   "execution_count": 17,
   "id": "4fe99bb5-1c37-47f7-b1ab-ba041b669d25",
   "metadata": {},
   "outputs": [
    {
     "name": "stdout",
     "output_type": "stream",
     "text": [
      "1 -> 2 -> 3 -> 4\n"
     ]
    }
   ],
   "source": [
    "print(queue)"
   ]
  },
  {
   "cell_type": "code",
   "execution_count": 8,
   "id": "6139692a-6118-482a-b303-b27310223e35",
   "metadata": {},
   "outputs": [
    {
     "ename": "NameError",
     "evalue": "name 'reverse' is not defined",
     "output_type": "error",
     "traceback": [
      "\u001b[1;31m---------------------------------------------------------------------------\u001b[0m",
      "\u001b[1;31mNameError\u001b[0m                                 Traceback (most recent call last)",
      "Cell \u001b[1;32mIn[8], line 1\u001b[0m\n\u001b[1;32m----> 1\u001b[0m reverse\u001b[38;5;241m.\u001b[39mqueue(queue)\n",
      "\u001b[1;31mNameError\u001b[0m: name 'reverse' is not defined"
     ]
    }
   ],
   "source": [
    "reverse.queue(queue)"
   ]
  },
  {
   "cell_type": "code",
   "execution_count": null,
   "id": "269b2b29-d8fa-4977-9d26-4dbdd3633210",
   "metadata": {},
   "outputs": [],
   "source": []
  }
 ],
 "metadata": {
  "kernelspec": {
   "display_name": "Python 3 (ipykernel)",
   "language": "python",
   "name": "python3"
  },
  "language_info": {
   "codemirror_mode": {
    "name": "ipython",
    "version": 3
   },
   "file_extension": ".py",
   "mimetype": "text/x-python",
   "name": "python",
   "nbconvert_exporter": "python",
   "pygments_lexer": "ipython3",
   "version": "3.11.7"
  }
 },
 "nbformat": 4,
 "nbformat_minor": 5
}
